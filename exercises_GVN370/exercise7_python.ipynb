{
 "cells": [
  {
   "cell_type": "markdown",
   "metadata": {},
   "source": [
    "# Exercise 7: Fourier transformation \n",
    "\n",
    "*This notebook has been created by Julia Kukulies (julia.kukulies@gu.se) as a modified version from the exercise for GVN370 that has been created by Céline Heuzé.*\n",
    "\n",
    "\n",
    "\n",
    "There are many processes that are periodic or near-periodic in the climate system, i.e. that come back\n",
    "regularly. The day/night cycle in solar forcing, and the resulting day/night cycle in temperature, are\n",
    "one of them. So is the seasonal cycle caused by the Earth’s tilt and rotation around the Sun, which\n",
    "causes a seasonal cycle in tree growth, in sea ice, in snow, and in temperature again. On a longer term,\n",
    "we saw one of these near-periodic processes in ex4: the El Niño Southern Oscillation. And in ex3, when\n",
    "you used the time series of the NAO, you probably did not realise that it was another near-periodic\n",
    "signal. At the other end of the time-space spectrum, if you ever work with turbulence, you will use\n",
    "today’s method very often!\n",
    "\n",
    "But what is today’s method? The **Fourier transform**, or how to obtain information about the main\n",
    "periodicities in your signal.\n",
    "\n",
    "\n",
    "I let you get more information using your favourite search engine (check videos even), but in a nutshell,\n",
    "the idea behind a Fourier transform is that “any timeseries can be thought of as a sum of sinusoids of\n",
    "different periods and different amplitudes”. A Fourier transform extracts these amplitudes and\n",
    "periods; a Fourier spectrum is the plot of the amplitudes as a function of the periods. Large amplitude\n",
    "at a specific period means that the signal has a periodicity there.\n",
    "\n",
    "NB: in our field, we work with periods (diurnal, seasonal, yearly, 5-yearly etc). In signal processing and\n",
    "remote sensing, people use frequencies rather (1 MHz, 3 GHz etc). The frequency is the inverse of the\n",
    "period (1 Hz = 1 s$^{-1}$ ).\n",
    "\n",
    "\n",
    "**In today’s session, you will:**\n",
    "\n",
    "- **Produce the Fourier transform of a time series**\n",
    "- **Identify leading variabilities on the Fourier spectrum**\n",
    "- **Do some basic filtering to remove the high frequency variabilities.**\n",
    "\n",
    "\n",
    "All that you need for today is one timeseries. I recommend you re-use the monthly sea surface\n",
    "temperature in the East Pacific of ex4, as you are already familiar with its variabilities and kind of know\n",
    "what to expect.\n"
   ]
  },
  {
   "cell_type": "markdown",
   "metadata": {},
   "source": [
    "# Produce the Fourier transform of a timeseries \n",
    "\n",
    "As usual, import the python libraries you need and load your data. I will refer to my timeseries as sst_EP, which is the same East Pacific location from Ex.4. The last 3 values were NaN, so I removed them. When you do that you obtain a 1D array with 369 monthly values.\n",
    "\n",
    "\n",
    "\n",
    "\n",
    "[This is an example of how to perform a Fourier transformation with Python and Numpy](https://pythontic.com/visualization/signals/fouriertransform_fft). [Or here is some additional help how to define the input parameters we need](https://medium.com/@khairulomar/deconstructing-time-series-using-fourier-transform-e52dd535a44e). \n",
    "\n",
    "\n",
    "Similar to the second example, we do:"
   ]
  },
  {
   "cell_type": "code",
   "execution_count": 178,
   "metadata": {},
   "outputs": [],
   "source": [
    "# the sampling period (one month in seconds)\n",
    "T = 30.25*24*3600\n",
    "\n",
    "# sampling frequency \n",
    "Fs = 1/T\n",
    "\n",
    "# length of signal = length of timeseries\n",
    "L = np.size(sst_EP)\n",
    "\n",
    "# frequency vector \n",
    "f = Fs*(np.arange(0, L/2))/ L"
   ]
  },
  {
   "cell_type": "markdown",
   "metadata": {},
   "source": [
    "The Fourier transform (or Fast Fourier transform here, fft) is computed on this line. NOte that here you need to provide the input as a **numpy array** and not as an xarray, since the fft method is built for numpy data types. \n"
   ]
  },
  {
   "cell_type": "code",
   "execution_count": 168,
   "metadata": {},
   "outputs": [],
   "source": [
    "y_fft = np.fft.fft(sst_EP)"
   ]
  },
  {
   "cell_type": "markdown",
   "metadata": {},
   "source": [
    "The returned variable y_fft is a complex. It has a real part and an imaginary part.\n",
    "The real part is what contains the amplitude and frequency information.\n",
    "The imaginary part contains the phase shift; that is not relevant for you unless you start working\n",
    "with radar remote sensing raw data. Just be aware of these two components, which in Python are attritubes of the complex array:"
   ]
  },
  {
   "cell_type": "code",
   "execution_count": 169,
   "metadata": {},
   "outputs": [
    {
     "data": {
      "image/png": "[encoded data removed]",
      "text/plain": [
       "<Figure size 432x288 with 1 Axes>"
      ]
     },
     "metadata": {
      "needs_background": "light"
     },
     "output_type": "display_data"
    }
   ],
   "source": [
    "plt.plot(y_fft.real)\n",
    "plt.xlabel('Frequency')\n",
    "plt.ylabel('Amplitude')\n",
    "plt.show()"
   ]
  },
  {
   "cell_type": "markdown",
   "metadata": {},
   "source": [
    "So, we keep only the real part of y_fft. \n",
    "\n",
    "You have to divide by L because it is in the mathematical definition of the Fourier coefficients (the\n",
    "amplitudes you want on your spectrum).\n",
    "\n",
    "Finally, the fft is symmetrical around 0, so you need only keep half of P2 (but multiply by 2 to have\n",
    "the right amount of energy):"
   ]
  },
  {
   "cell_type": "code",
   "execution_count": 170,
   "metadata": {},
   "outputs": [],
   "source": [
    "P2 = np.abs(y_fft/L)\n",
    "P1 = P2[0:np.size(f)] "
   ]
  },
  {
   "cell_type": "code",
   "execution_count": 171,
   "metadata": {},
   "outputs": [
    {
     "data": {
      "image/png": "[encoded data removed]",
      "text/plain": [
       "<Figure size 432x288 with 1 Axes>"
      ]
     },
     "metadata": {
      "needs_background": "light"
     },
     "output_type": "display_data"
    }
   ],
   "source": [
    "# plot P1 (the FFT) as a function of the freqency vector \n",
    "plt.plot(f,P1)\n",
    "plt.xlabel('Frequency [Hz]')\n",
    "plt.show()"
   ]
  },
  {
   "cell_type": "markdown",
   "metadata": {},
   "source": [
    "It is not empty (yeah!), but I cannot interpret this. So let me replot it as a function of the period in\n",
    "years rather:"
   ]
  },
  {
   "cell_type": "code",
   "execution_count": 172,
   "metadata": {},
   "outputs": [
    {
     "data": {
      "image/png": "[encoded data removed]",
      "text/plain": [
       "<Figure size 432x288 with 1 Axes>"
      ]
     },
     "metadata": {
      "needs_background": "light"
     },
     "output_type": "display_data"
    }
   ],
   "source": [
    "period = 1/f/(24*3600*365)\n",
    "plt.plot(period, P1)\n",
    "plt.xlabel('Period [years]')\n",
    "plt.show()"
   ]
  },
  {
   "cell_type": "markdown",
   "metadata": {},
   "source": [
    "As a rule of thumb, don’t trust periods that are over a third of your signal (10 years here), and definitely\n",
    "don’t trust those over half (15 years), as there is just not enough data to determine the shape of the\n",
    "sinusoid."
   ]
  },
  {
   "cell_type": "markdown",
   "metadata": {},
   "source": [
    "# Identify leading variables on the Fourier spectrum \n",
    "\n",
    "Zoom on the periods from 0 to 15 years then using plt.xlim(). I personally want to see more details, so I set one xtick per year and switched the grid on. This is how it looks like: "
   ]
  },
  {
   "cell_type": "code",
   "execution_count": 177,
   "metadata": {},
   "outputs": [
    {
     "data": {
      "image/png": "[encoded data removed]",
      "text/plain": [
       "<PIL.PngImagePlugin.PngImageFile image mode=RGBA size=720x288 at 0x7F213E210E80>"
      ]
     },
     "execution_count": 177,
     "metadata": {},
     "output_type": "execute_result"
    }
   ],
   "source": [
    "from PIL import Image\n",
    "Image.open('fft.png')"
   ]
  },
  {
   "cell_type": "markdown",
   "metadata": {},
   "source": [
    "What do YOU see?\n",
    "\n",
    "Help with the interpretation:\n",
    "- The variability that dominates the signal is the one that has the largest value. Here, it is at a 1\n",
    "year period (the seasonal cycle);\n",
    "- The other large values are around 4.5 years, 6 years, and 6 months.\n",
    "- The narrower the peak, the more regular this periodicity is. So the seasonal cycle really comes\n",
    "back exactly every year, whereas whatever is happening at 4.5 years is not that regular, and\n",
    "instead is “spread” over other periodicities between 3 and 4.5 years.\n",
    "- The peak at 6 months is an echo of the seasonal cycle, i.e. things that change once a year\n",
    "because of the seasonal cycle have a noticeable change every 6 months. Ignore it.\n",
    "\n",
    "\n",
    "Calculating the signal-to-noise ratio is beyond the scope of this course and is actually not that well\n",
    "defined. It is often up to your own judgement to decide whether something is a peak or just noise.\n",
    "\n",
    "\n",
    "Do a bit of research or use your own knowledge: what has a periodicity of 6-7 years? What about 4.5\n",
    "years?\n",
    "\n",
    "\n",
    "Think already before we move to the next part: the seasonal cycle dominates the signal and prevents\n",
    "us from further studying the other variabilities. How would you remove it?"
   ]
  },
  {
   "cell_type": "markdown",
   "metadata": {},
   "source": [
    "# Do some basic filtering to remove the high frequency variabilities"
   ]
  },
  {
   "cell_type": "markdown",
   "metadata": {},
   "source": [
    "I am not going to lie to you: if you have never had a course on the maths behind signal processing, I\n",
    "do not see how you would manage to design a filter in the few minutes we have left.\n",
    "For now, you can play with [lowpass filters](https://stackoverflow.com/questions/25191620/creating-lowpass-filter-in-scipy-understanding-methods-and-units).\n",
    "\n",
    "Or you can check online what you can find about [signal processing with Python](https://docs.scipy.org/doc/scipy/reference/signal.html), and share with everyone tomorrow afternoon.\n",
    "Or you can produce anomalies again, and see if you remember how to do it from last week.\n",
    "Or you can decide to sacrifice your temporal resolution and load only one value per year. This is a very\n",
    "common solution, provided you have a long enough timeseries."
   ]
  }
 ],
 "metadata": {
  "kernelspec": {
   "display_name": "Python 3",
   "language": "python",
   "name": "python3"
  },
  "language_info": {
   "codemirror_mode": {
    "name": "ipython",
    "version": 3
   },
   "file_extension": ".py",
   "mimetype": "text/x-python",
   "name": "python",
   "nbconvert_exporter": "python",
   "pygments_lexer": "ipython3",
   "version": "3.6.11"
  }
 },
 "nbformat": 4,
 "nbformat_minor": 4
}
