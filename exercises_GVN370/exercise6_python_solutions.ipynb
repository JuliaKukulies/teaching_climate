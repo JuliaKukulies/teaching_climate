{
 "cells": [
  {
   "cell_type": "markdown",
   "metadata": {},
   "source": [
    "# Exercise 6: \n",
    "\n",
    "*This notebook has been created by Julia Kukulies (julia.kukulies@gu.se) as a modified version from the exercise for GVN370 that has been created by Céline Heuzé.*\n",
    "\n",
    "\n",
    "Meet the EN4 dataset: https://www.metoffice.gov.uk/hadobs/en4/download-en4-2-1.html\n",
    "\n",
    "\n",
    "Technically, it provides data that you can obtain via CMEMS, but as I was preparing this exercise,\n",
    "CMEMS kept me waiting even longer than a vårdcentral phoneline, so I lost patience and instead\n",
    "downloaded EN.4.2.1.profiles.g10.2020.zip\n",
    "\n",
    "\n",
    "If you too are running out of patience AND that you did not open this document until right now,\n",
    "download the March 2020 file from EN4 (EN.4.2.1.f.profiles.g10.202003.nc) that I put on Canvas.\n",
    "\n",
    "\n",
    "The reason why we are today using ocean profiles is because they are a textbook example of data that\n",
    "need interpolation: they are collected pretty much at any depth, instead of the one you’re interested\n",
    "in, and they are scattered across the ocean. Definitely not at nicely gridded locations. But we’re going\n",
    "to bring them onto a regular grid. There are many reasons why one would want to do that, but most commonly in climate science:\n",
    "\n",
    "\n",
    "- because you want to compare two products (e.g. models and observations) that are given on\n",
    "different grids\n",
    "- because you want to determine a value somewhere where you have no data (imagine getting\n",
    "the temperature in Gothenburg from measurements in Oslo, Stockholm and Copenhagen).\n",
    "\n",
    "\n",
    "**Today we will do only two things:**\n",
    "- Perform a 1D interpolation\n",
    "- Then perform a 2D interpolation\n",
    "\n",
    "\n",
    "Don’t panic when you do look at the metadata of this profile file. I’ll tell you exactly what to load, and if you have more question, you can either read the reference on the MetOffice website or ask me.\n"
   ]
  },
  {
   "cell_type": "markdown",
   "metadata": {},
   "source": [
    "# Perform a 1D interpolation "
   ]
  },
  {
   "cell_type": "code",
   "execution_count": null,
   "metadata": {},
   "outputs": [],
   "source": []
  },
  {
   "cell_type": "code",
   "execution_count": null,
   "metadata": {},
   "outputs": [],
   "source": []
  },
  {
   "cell_type": "markdown",
   "metadata": {},
   "source": [
    "# Perform a 2D interpolation"
   ]
  },
  {
   "cell_type": "code",
   "execution_count": null,
   "metadata": {},
   "outputs": [],
   "source": []
  },
  {
   "cell_type": "code",
   "execution_count": null,
   "metadata": {},
   "outputs": [],
   "source": []
  }
 ],
 "metadata": {
  "kernelspec": {
   "display_name": "Python 3",
   "language": "python",
   "name": "python3"
  },
  "language_info": {
   "codemirror_mode": {
    "name": "ipython",
    "version": 3
   },
   "file_extension": ".py",
   "mimetype": "text/x-python",
   "name": "python",
   "nbconvert_exporter": "python",
   "pygments_lexer": "ipython3",
   "version": "3.6.7"
  }
 },
 "nbformat": 4,
 "nbformat_minor": 2
}
