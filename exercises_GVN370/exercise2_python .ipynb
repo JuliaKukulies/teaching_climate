{
 "cells": [
  {
   "cell_type": "markdown",
   "metadata": {},
   "source": [
    "# Exercise 2: Reduce data dimensions \n",
    "\n",
    "\n",
    "This notebook has been created by Julia Kukulies (julia.kukulies@gu.se) as a modified version from the exercise for GVN370 that has been created by Céline Heuzé. "
   ]
  },
  {
   "cell_type": "markdown",
   "metadata": {},
   "source": [
    "Today, you will again have to read data from a netcdf file and figure out which dimension is which, as in ex1. We will work with a3-D ERA5 file. If  you  have  not  downloaded  any,  use  the 3-D hourly sea  iceconcentration on  Canvas. Sea  ice concentration takes values between 0 and 1, or 0 and 100%, that indicates how much of the grid cell is covered by sea ice.\n",
    "\n",
    "We are going to learn:\n",
    "\n",
    "- to reduce your data to a specific date\n",
    "- to produce daily and monthly means\n",
    "- to reduce your data to a specific region (coordinate range)\n",
    "- to produce area-averages\n",
    "- to produce the sea ice area (sum over a region)\n",
    "\n",
    "Basically, you are going to move from un-readable 3D data to way more manageable 1D or 2D metrics.The same methods are applicable to 4D data, but the files are much heavier.\n",
    "\n",
    "Reduce your data to a specific date (or pressure, or longitude, or latitude). \n",
    "\n",
    "From last exercise, you should remember, how to:\n",
    "\n",
    "- choose to the correct path to read the netcdf file with **xarray**\n",
    "- display the metadata of the xaray dataset to know which variables you have and what their dimensions are\n",
    "- extract a specific variable from the xarray dataset \n",
    "\n",
    "\n",
    "If you did this on the sea ice file, your variables are longitude, latitude, time and siconc(sea ice concentration).siconc dimensions are 1. longitude, 2. latitude, 3. time. time is in 'hours since 1900-01-01 00:00:00.0'."
   ]
  },
  {
   "cell_type": "markdown",
   "metadata": {},
   "source": [
    "# Reduce your data to a specific date \n",
    "\n",
    "As very briefly mentioned in ex1, you can use [**indexing and selecting**](http://xarray.pydata.org/en/stable/indexing.html) to subset your dataset. You can simply use indexing, as for a numpy array, but for this you would have to nee which index corresponds to the date you want to extract. An easier (and better way to avoid mistakes) is to use the function [**xarray.Dataset.sel**](http://xarray.pydata.org/en/stable/generated/xarray.Dataset.sel.html). You should also know by now, that the date format we are dealing is the datetime format. Note, that this time we have **numpy.datetime64**, which is slightly different from the format from the climate model file. This can be confusing, but it is not too bad, because it can be used in the same way and also easily be converted from one format to the other. The fastest way of accessing the data at a certain date and time is thus to give the exact datetime value as an input argument in the search function. \n",
    "\n",
    "If you were to only select data on **23 March 2020 at 10:00**, the correct way of using the function is this: \n",
    "\n"
   ]
  },
  {
   "cell_type": "code",
   "execution_count": 41,
   "metadata": {},
   "outputs": [],
   "source": [
    "# basic library to handle datetime format is the datetime package\n",
    "import datetime\n",
    "# create a datetime object \n",
    "t= datetime.datetime(2020,3,23,10,0,0,0)\n",
    "# use this as an input in search function (note, with method='nearest'\n",
    "# you look for the closest value in case the exact value is not in the data)\n",
    "siconc_mar = data.siconc.sel(time = t, method = 'nearest') "
   ]
  },
  {
   "cell_type": "code",
   "execution_count": 42,
   "metadata": {},
   "outputs": [
    {
     "data": {
      "text/html": [
       "<div><svg style=\"position: absolute; width: 0; height: 0; overflow: hidden\">\n",
       "<defs>\n",
       "<symbol id=\"icon-database\" viewBox=\"0 0 32 32\">\n",
       "<path d=\"M16 0c-8.837 0-16 2.239-16 5v4c0 2.761 7.163 5 16 5s16-2.239 16-5v-4c0-2.761-7.163-5-16-5z\"></path>\n",
       "<path d=\"M16 17c-8.837 0-16-2.239-16-5v6c0 2.761 7.163 5 16 5s16-2.239 16-5v-6c0 2.761-7.163 5-16 5z\"></path>\n",
       "<path d=\"M16 26c-8.837 0-16-2.239-16-5v6c0 2.761 7.163 5 16 5s16-2.239 16-5v-6c0 2.761-7.163 5-16 5z\"></path>\n",
       "</symbol>\n",
       "<symbol id=\"icon-file-text2\" viewBox=\"0 0 32 32\">\n",
       "<path d=\"M28.681 7.159c-0.694-0.947-1.662-2.053-2.724-3.116s-2.169-2.030-3.116-2.724c-1.612-1.182-2.393-1.319-2.841-1.319h-15.5c-1.378 0-2.5 1.121-2.5 2.5v27c0 1.378 1.122 2.5 2.5 2.5h23c1.378 0 2.5-1.122 2.5-2.5v-19.5c0-0.448-0.137-1.23-1.319-2.841zM24.543 5.457c0.959 0.959 1.712 1.825 2.268 2.543h-4.811v-4.811c0.718 0.556 1.584 1.309 2.543 2.268zM28 29.5c0 0.271-0.229 0.5-0.5 0.5h-23c-0.271 0-0.5-0.229-0.5-0.5v-27c0-0.271 0.229-0.5 0.5-0.5 0 0 15.499-0 15.5 0v7c0 0.552 0.448 1 1 1h7v19.5z\"></path>\n",
       "<path d=\"M23 26h-14c-0.552 0-1-0.448-1-1s0.448-1 1-1h14c0.552 0 1 0.448 1 1s-0.448 1-1 1z\"></path>\n",
       "<path d=\"M23 22h-14c-0.552 0-1-0.448-1-1s0.448-1 1-1h14c0.552 0 1 0.448 1 1s-0.448 1-1 1z\"></path>\n",
       "<path d=\"M23 18h-14c-0.552 0-1-0.448-1-1s0.448-1 1-1h14c0.552 0 1 0.448 1 1s-0.448 1-1 1z\"></path>\n",
       "</symbol>\n",
       "</defs>\n",
       "</svg>\n",
       "<style>/* CSS stylesheet for displaying xarray objects in jupyterlab.\n",
       " *\n",
       " */\n",
       "\n",
       ":root {\n",
       "  --xr-font-color0: var(--jp-content-font-color0, rgba(0, 0, 0, 1));\n",
       "  --xr-font-color2: var(--jp-content-font-color2, rgba(0, 0, 0, 0.54));\n",
       "  --xr-font-color3: var(--jp-content-font-color3, rgba(0, 0, 0, 0.38));\n",
       "  --xr-border-color: var(--jp-border-color2, #e0e0e0);\n",
       "  --xr-disabled-color: var(--jp-layout-color3, #bdbdbd);\n",
       "  --xr-background-color: var(--jp-layout-color0, white);\n",
       "  --xr-background-color-row-even: var(--jp-layout-color1, white);\n",
       "  --xr-background-color-row-odd: var(--jp-layout-color2, #eeeeee);\n",
       "}\n",
       "\n",
       "html[theme=dark],\n",
       "body.vscode-dark {\n",
       "  --xr-font-color0: rgba(255, 255, 255, 1);\n",
       "  --xr-font-color2: rgba(255, 255, 255, 0.54);\n",
       "  --xr-font-color3: rgba(255, 255, 255, 0.38);\n",
       "  --xr-border-color: #1F1F1F;\n",
       "  --xr-disabled-color: #515151;\n",
       "  --xr-background-color: #111111;\n",
       "  --xr-background-color-row-even: #111111;\n",
       "  --xr-background-color-row-odd: #313131;\n",
       "}\n",
       "\n",
       ".xr-wrap {\n",
       "  display: block;\n",
       "  min-width: 300px;\n",
       "  max-width: 700px;\n",
       "}\n",
       "\n",
       ".xr-text-repr-fallback {\n",
       "  /* fallback to plain text repr when CSS is not injected (untrusted notebook) */\n",
       "  display: none;\n",
       "}\n",
       "\n",
       ".xr-header {\n",
       "  padding-top: 6px;\n",
       "  padding-bottom: 6px;\n",
       "  margin-bottom: 4px;\n",
       "  border-bottom: solid 1px var(--xr-border-color);\n",
       "}\n",
       "\n",
       ".xr-header > div,\n",
       ".xr-header > ul {\n",
       "  display: inline;\n",
       "  margin-top: 0;\n",
       "  margin-bottom: 0;\n",
       "}\n",
       "\n",
       ".xr-obj-type,\n",
       ".xr-array-name {\n",
       "  margin-left: 2px;\n",
       "  margin-right: 10px;\n",
       "}\n",
       "\n",
       ".xr-obj-type {\n",
       "  color: var(--xr-font-color2);\n",
       "}\n",
       "\n",
       ".xr-sections {\n",
       "  padding-left: 0 !important;\n",
       "  display: grid;\n",
       "  grid-template-columns: 150px auto auto 1fr 20px 20px;\n",
       "}\n",
       "\n",
       ".xr-section-item {\n",
       "  display: contents;\n",
       "}\n",
       "\n",
       ".xr-section-item input {\n",
       "  display: none;\n",
       "}\n",
       "\n",
       ".xr-section-item input + label {\n",
       "  color: var(--xr-disabled-color);\n",
       "}\n",
       "\n",
       ".xr-section-item input:enabled + label {\n",
       "  cursor: pointer;\n",
       "  color: var(--xr-font-color2);\n",
       "}\n",
       "\n",
       ".xr-section-item input:enabled + label:hover {\n",
       "  color: var(--xr-font-color0);\n",
       "}\n",
       "\n",
       ".xr-section-summary {\n",
       "  grid-column: 1;\n",
       "  color: var(--xr-font-color2);\n",
       "  font-weight: 500;\n",
       "}\n",
       "\n",
       ".xr-section-summary > span {\n",
       "  display: inline-block;\n",
       "  padding-left: 0.5em;\n",
       "}\n",
       "\n",
       ".xr-section-summary-in:disabled + label {\n",
       "  color: var(--xr-font-color2);\n",
       "}\n",
       "\n",
       ".xr-section-summary-in + label:before {\n",
       "  display: inline-block;\n",
       "  content: '►';\n",
       "  font-size: 11px;\n",
       "  width: 15px;\n",
       "  text-align: center;\n",
       "}\n",
       "\n",
       ".xr-section-summary-in:disabled + label:before {\n",
       "  color: var(--xr-disabled-color);\n",
       "}\n",
       "\n",
       ".xr-section-summary-in:checked + label:before {\n",
       "  content: '▼';\n",
       "}\n",
       "\n",
       ".xr-section-summary-in:checked + label > span {\n",
       "  display: none;\n",
       "}\n",
       "\n",
       ".xr-section-summary,\n",
       ".xr-section-inline-details {\n",
       "  padding-top: 4px;\n",
       "  padding-bottom: 4px;\n",
       "}\n",
       "\n",
       ".xr-section-inline-details {\n",
       "  grid-column: 2 / -1;\n",
       "}\n",
       "\n",
       ".xr-section-details {\n",
       "  display: none;\n",
       "  grid-column: 1 / -1;\n",
       "  margin-bottom: 5px;\n",
       "}\n",
       "\n",
       ".xr-section-summary-in:checked ~ .xr-section-details {\n",
       "  display: contents;\n",
       "}\n",
       "\n",
       ".xr-array-wrap {\n",
       "  grid-column: 1 / -1;\n",
       "  display: grid;\n",
       "  grid-template-columns: 20px auto;\n",
       "}\n",
       "\n",
       ".xr-array-wrap > label {\n",
       "  grid-column: 1;\n",
       "  vertical-align: top;\n",
       "}\n",
       "\n",
       ".xr-preview {\n",
       "  color: var(--xr-font-color3);\n",
       "}\n",
       "\n",
       ".xr-array-preview,\n",
       ".xr-array-data {\n",
       "  padding: 0 5px !important;\n",
       "  grid-column: 2;\n",
       "}\n",
       "\n",
       ".xr-array-data,\n",
       ".xr-array-in:checked ~ .xr-array-preview {\n",
       "  display: none;\n",
       "}\n",
       "\n",
       ".xr-array-in:checked ~ .xr-array-data,\n",
       ".xr-array-preview {\n",
       "  display: inline-block;\n",
       "}\n",
       "\n",
       ".xr-dim-list {\n",
       "  display: inline-block !important;\n",
       "  list-style: none;\n",
       "  padding: 0 !important;\n",
       "  margin: 0;\n",
       "}\n",
       "\n",
       ".xr-dim-list li {\n",
       "  display: inline-block;\n",
       "  padding: 0;\n",
       "  margin: 0;\n",
       "}\n",
       "\n",
       ".xr-dim-list:before {\n",
       "  content: '(';\n",
       "}\n",
       "\n",
       ".xr-dim-list:after {\n",
       "  content: ')';\n",
       "}\n",
       "\n",
       ".xr-dim-list li:not(:last-child):after {\n",
       "  content: ',';\n",
       "  padding-right: 5px;\n",
       "}\n",
       "\n",
       ".xr-has-index {\n",
       "  font-weight: bold;\n",
       "}\n",
       "\n",
       ".xr-var-list,\n",
       ".xr-var-item {\n",
       "  display: contents;\n",
       "}\n",
       "\n",
       ".xr-var-item > div,\n",
       ".xr-var-item label,\n",
       ".xr-var-item > .xr-var-name span {\n",
       "  background-color: var(--xr-background-color-row-even);\n",
       "  margin-bottom: 0;\n",
       "}\n",
       "\n",
       ".xr-var-item > .xr-var-name:hover span {\n",
       "  padding-right: 5px;\n",
       "}\n",
       "\n",
       ".xr-var-list > li:nth-child(odd) > div,\n",
       ".xr-var-list > li:nth-child(odd) > label,\n",
       ".xr-var-list > li:nth-child(odd) > .xr-var-name span {\n",
       "  background-color: var(--xr-background-color-row-odd);\n",
       "}\n",
       "\n",
       ".xr-var-name {\n",
       "  grid-column: 1;\n",
       "}\n",
       "\n",
       ".xr-var-dims {\n",
       "  grid-column: 2;\n",
       "}\n",
       "\n",
       ".xr-var-dtype {\n",
       "  grid-column: 3;\n",
       "  text-align: right;\n",
       "  color: var(--xr-font-color2);\n",
       "}\n",
       "\n",
       ".xr-var-preview {\n",
       "  grid-column: 4;\n",
       "}\n",
       "\n",
       ".xr-var-name,\n",
       ".xr-var-dims,\n",
       ".xr-var-dtype,\n",
       ".xr-preview,\n",
       ".xr-attrs dt {\n",
       "  white-space: nowrap;\n",
       "  overflow: hidden;\n",
       "  text-overflow: ellipsis;\n",
       "  padding-right: 10px;\n",
       "}\n",
       "\n",
       ".xr-var-name:hover,\n",
       ".xr-var-dims:hover,\n",
       ".xr-var-dtype:hover,\n",
       ".xr-attrs dt:hover {\n",
       "  overflow: visible;\n",
       "  width: auto;\n",
       "  z-index: 1;\n",
       "}\n",
       "\n",
       ".xr-var-attrs,\n",
       ".xr-var-data {\n",
       "  display: none;\n",
       "  background-color: var(--xr-background-color) !important;\n",
       "  padding-bottom: 5px !important;\n",
       "}\n",
       "\n",
       ".xr-var-attrs-in:checked ~ .xr-var-attrs,\n",
       ".xr-var-data-in:checked ~ .xr-var-data {\n",
       "  display: block;\n",
       "}\n",
       "\n",
       ".xr-var-data > table {\n",
       "  float: right;\n",
       "}\n",
       "\n",
       ".xr-var-name span,\n",
       ".xr-var-data,\n",
       ".xr-attrs {\n",
       "  padding-left: 25px !important;\n",
       "}\n",
       "\n",
       ".xr-attrs,\n",
       ".xr-var-attrs,\n",
       ".xr-var-data {\n",
       "  grid-column: 1 / -1;\n",
       "}\n",
       "\n",
       "dl.xr-attrs {\n",
       "  padding: 0;\n",
       "  margin: 0;\n",
       "  display: grid;\n",
       "  grid-template-columns: 125px auto;\n",
       "}\n",
       "\n",
       ".xr-attrs dt, dd {\n",
       "  padding: 0;\n",
       "  margin: 0;\n",
       "  float: left;\n",
       "  padding-right: 10px;\n",
       "  width: auto;\n",
       "}\n",
       "\n",
       ".xr-attrs dt {\n",
       "  font-weight: normal;\n",
       "  grid-column: 1;\n",
       "}\n",
       "\n",
       ".xr-attrs dt:hover span {\n",
       "  display: inline-block;\n",
       "  background: var(--xr-background-color);\n",
       "  padding-right: 10px;\n",
       "}\n",
       "\n",
       ".xr-attrs dd {\n",
       "  grid-column: 2;\n",
       "  white-space: pre-wrap;\n",
       "  word-break: break-all;\n",
       "}\n",
       "\n",
       ".xr-icon-database,\n",
       ".xr-icon-file-text2 {\n",
       "  display: inline-block;\n",
       "  vertical-align: middle;\n",
       "  width: 1em;\n",
       "  height: 1.5em !important;\n",
       "  stroke-width: 0;\n",
       "  stroke: currentColor;\n",
       "  fill: currentColor;\n",
       "}\n",
       "</style><pre class='xr-text-repr-fallback'>&lt;xarray.DataArray &#x27;siconc&#x27; (latitude: 721, longitude: 1440)&gt;\n",
       "[1038240 values with dtype=float32]\n",
       "Coordinates:\n",
       "  * longitude  (longitude) float32 0.0 0.25 0.5 0.75 ... 359.25 359.5 359.75\n",
       "  * latitude   (latitude) float32 90.0 89.75 89.5 89.25 ... -89.5 -89.75 -90.0\n",
       "    time       datetime64[ns] 2020-03-23T10:00:00\n",
       "Attributes:\n",
       "    units:          (0 - 1)\n",
       "    long_name:      Sea ice area fraction\n",
       "    standard_name:  sea_ice_area_fraction</pre><div class='xr-wrap' hidden><div class='xr-header'><div class='xr-obj-type'>xarray.DataArray</div><div class='xr-array-name'>'siconc'</div><ul class='xr-dim-list'><li><span class='xr-has-index'>latitude</span>: 721</li><li><span class='xr-has-index'>longitude</span>: 1440</li></ul></div><ul class='xr-sections'><li class='xr-section-item'><div class='xr-array-wrap'><input id='section-fc689f00-46a2-4b7a-899e-b6d7da669b39' class='xr-array-in' type='checkbox' checked><label for='section-fc689f00-46a2-4b7a-899e-b6d7da669b39' title='Show/hide data repr'><svg class='icon xr-icon-database'><use xlink:href='#icon-database'></use></svg></label><div class='xr-array-preview xr-preview'><span>...</span></div><div class='xr-array-data'><pre>[1038240 values with dtype=float32]</pre></div></div></li><li class='xr-section-item'><input id='section-e9795bdb-d70d-4e41-9311-520a7ed981c1' class='xr-section-summary-in' type='checkbox'  checked><label for='section-e9795bdb-d70d-4e41-9311-520a7ed981c1' class='xr-section-summary' >Coordinates: <span>(3)</span></label><div class='xr-section-inline-details'></div><div class='xr-section-details'><ul class='xr-var-list'><li class='xr-var-item'><div class='xr-var-name'><span class='xr-has-index'>longitude</span></div><div class='xr-var-dims'>(longitude)</div><div class='xr-var-dtype'>float32</div><div class='xr-var-preview xr-preview'>0.0 0.25 0.5 ... 359.5 359.75</div><input id='attrs-27713a5c-ad0d-424d-8ce1-e14cbecd1115' class='xr-var-attrs-in' type='checkbox' ><label for='attrs-27713a5c-ad0d-424d-8ce1-e14cbecd1115' title='Show/Hide attributes'><svg class='icon xr-icon-file-text2'><use xlink:href='#icon-file-text2'></use></svg></label><input id='data-af5ddb6e-ddca-41a8-8492-f4a34f9c7bf4' class='xr-var-data-in' type='checkbox'><label for='data-af5ddb6e-ddca-41a8-8492-f4a34f9c7bf4' title='Show/Hide data repr'><svg class='icon xr-icon-database'><use xlink:href='#icon-database'></use></svg></label><div class='xr-var-attrs'><dl class='xr-attrs'><dt><span>units :</span></dt><dd>degrees_east</dd><dt><span>long_name :</span></dt><dd>longitude</dd></dl></div><div class='xr-var-data'><pre>array([0.0000e+00, 2.5000e-01, 5.0000e-01, ..., 3.5925e+02, 3.5950e+02,\n",
       "       3.5975e+02], dtype=float32)</pre></div></li><li class='xr-var-item'><div class='xr-var-name'><span class='xr-has-index'>latitude</span></div><div class='xr-var-dims'>(latitude)</div><div class='xr-var-dtype'>float32</div><div class='xr-var-preview xr-preview'>90.0 89.75 89.5 ... -89.75 -90.0</div><input id='attrs-36a6d8e8-0f98-4421-b551-1d02c5486094' class='xr-var-attrs-in' type='checkbox' ><label for='attrs-36a6d8e8-0f98-4421-b551-1d02c5486094' title='Show/Hide attributes'><svg class='icon xr-icon-file-text2'><use xlink:href='#icon-file-text2'></use></svg></label><input id='data-c361fbb2-a38c-488f-b51d-5d3bd3aa7bad' class='xr-var-data-in' type='checkbox'><label for='data-c361fbb2-a38c-488f-b51d-5d3bd3aa7bad' title='Show/Hide data repr'><svg class='icon xr-icon-database'><use xlink:href='#icon-database'></use></svg></label><div class='xr-var-attrs'><dl class='xr-attrs'><dt><span>units :</span></dt><dd>degrees_north</dd><dt><span>long_name :</span></dt><dd>latitude</dd></dl></div><div class='xr-var-data'><pre>array([ 90.  ,  89.75,  89.5 , ..., -89.5 , -89.75, -90.  ], dtype=float32)</pre></div></li><li class='xr-var-item'><div class='xr-var-name'><span>time</span></div><div class='xr-var-dims'>()</div><div class='xr-var-dtype'>datetime64[ns]</div><div class='xr-var-preview xr-preview'>2020-03-23T10:00:00</div><input id='attrs-2b2fbdff-b975-45e2-9757-8137f7d7e69a' class='xr-var-attrs-in' type='checkbox' ><label for='attrs-2b2fbdff-b975-45e2-9757-8137f7d7e69a' title='Show/Hide attributes'><svg class='icon xr-icon-file-text2'><use xlink:href='#icon-file-text2'></use></svg></label><input id='data-fd134695-b1c0-46d2-b5cb-3ea6c92d14f9' class='xr-var-data-in' type='checkbox'><label for='data-fd134695-b1c0-46d2-b5cb-3ea6c92d14f9' title='Show/Hide data repr'><svg class='icon xr-icon-database'><use xlink:href='#icon-database'></use></svg></label><div class='xr-var-attrs'><dl class='xr-attrs'><dt><span>long_name :</span></dt><dd>time</dd></dl></div><div class='xr-var-data'><pre>array(&#x27;2020-03-23T10:00:00.000000000&#x27;, dtype=&#x27;datetime64[ns]&#x27;)</pre></div></li></ul></div></li><li class='xr-section-item'><input id='section-b7b9da27-51d0-4322-8034-49197974eed9' class='xr-section-summary-in' type='checkbox'  checked><label for='section-b7b9da27-51d0-4322-8034-49197974eed9' class='xr-section-summary' >Attributes: <span>(3)</span></label><div class='xr-section-inline-details'></div><div class='xr-section-details'><dl class='xr-attrs'><dt><span>units :</span></dt><dd>(0 - 1)</dd><dt><span>long_name :</span></dt><dd>Sea ice area fraction</dd><dt><span>standard_name :</span></dt><dd>sea_ice_area_fraction</dd></dl></div></li></ul></div></div>"
      ],
      "text/plain": [
       "<xarray.DataArray 'siconc' (latitude: 721, longitude: 1440)>\n",
       "[1038240 values with dtype=float32]\n",
       "Coordinates:\n",
       "  * longitude  (longitude) float32 0.0 0.25 0.5 0.75 ... 359.25 359.5 359.75\n",
       "  * latitude   (latitude) float32 90.0 89.75 89.5 89.25 ... -89.5 -89.75 -90.0\n",
       "    time       datetime64[ns] 2020-03-23T10:00:00\n",
       "Attributes:\n",
       "    units:          (0 - 1)\n",
       "    long_name:      Sea ice area fraction\n",
       "    standard_name:  sea_ice_area_fraction"
      ]
     },
     "execution_count": 42,
     "metadata": {},
     "output_type": "execute_result"
    }
   ],
   "source": [
    "siconc_mar"
   ]
  },
  {
   "cell_type": "markdown",
   "metadata": {},
   "source": [
    "# Produce daily and monthly means \n",
    "\n",
    "\n",
    "Hourly data are heavy to manipulate, and, if you are interested in climate change, this high level of precision  will  only  hide  the  information  you’re  really  after.  Next  week,  we  will  use  more  elegant methods to filter the data. For now, let’s produce averages. Here, we want the monthly ERA5 file and not the hourly, since the hourly data only contained one single month and one single year. \n",
    "\n",
    "\n",
    "\n",
    "One way of performing such a calculation is, of course, to loop over the timesteps and then calculate the average (using **np.nanmean** or **np.nanmedian**) over x timesteps. However, it saves you programming and computation time to use existing functions for such operations! \n",
    "\n",
    "**xarray** provides an in-built function [xarray.DataArray.groupby](http://xarray.pydata.org/en/stable/generated/xarray.DataArray.groupby.html) which can be used to first group a variable in the dataset by their attributes (e.g. year or month via the time dimension) and then compute the mean over the group: "
   ]
  },
  {
   "cell_type": "code",
   "execution_count": 53,
   "metadata": {},
   "outputs": [],
   "source": [
    "annual_means = data.sst.groupby('time.year').mean('time')  "
   ]
  },
  {
   "cell_type": "code",
   "execution_count": 57,
   "metadata": {},
   "outputs": [],
   "source": [
    "# same for monthly \n",
    "monthly_means = data.sst.groupby('time.month').mean('time')  "
   ]
  },
  {
   "cell_type": "markdown",
   "metadata": {},
   "source": [
    "A good idea is to save the new dataset as an xarray (you know how to do it now)! "
   ]
  },
  {
   "cell_type": "markdown",
   "metadata": {},
   "source": [
    "# Reduce your data to a specific region \n",
    "\n",
    "There are two ways to select a specific region, depending on whether you are working with gridded data (as is our case here) or with ungridded, scattered data (typical in-situ observations)."
   ]
  },
  {
   "cell_type": "markdown",
   "metadata": {},
   "source": [
    "If your data are **regularly gridded**, you will in general have one dimension array for the longitudes and one dimension array for the latitudes, and these two arrays have different lengths. If instead you have a 2D matrix with irregular spacings between each longitude and/or latitude, you have data on an irregular grid, or so-called **scattered data**. That is very common with regional climate model data or ocean climate model data, but also with in-situ observations. The good thing is that it does not make any difference for this task with Python, but you may keep that in mind for other operations. \n",
    "\n",
    "\n",
    "We are going to select the **Barents Sea: longitude 20-55°E, latitude 66-80°N**. As above, we use [**xarray.Dataset.sel**](http://xarray.pydata.org/en/stable/generated/xarray.Dataset.sel.html):"
   ]
  },
  {
   "cell_type": "code",
   "execution_count": 3,
   "metadata": {},
   "outputs": [],
   "source": [
    "barent_sea= data.sel(latitude = (data.latitude > 66) & (data.latitude > 80) , longitude = (data.longitude > 20) & (data.longitude > 55) )\n"
   ]
  },
  {
   "cell_type": "markdown",
   "metadata": {},
   "source": [
    "An alternative way (and sometimes preferred when you want to keep the same dimensions) is to create a mask and set the other values to NaN:"
   ]
  },
  {
   "cell_type": "code",
   "execution_count": 4,
   "metadata": {},
   "outputs": [],
   "source": [
    "\n",
    "barent_sea = data.where((data.siconc.latitude > 66) & (data.siconc.latitude < 80) & (data.siconc.longitude > 20)& (data.siconc.longitude < 55))\n",
    "    "
   ]
  },
  {
   "cell_type": "markdown",
   "metadata": {},
   "source": [
    "# Produce area-averages \n",
    "\n",
    "Back to easier things.The same way that you can average over time, you can average over space. The good thing is that [numpy.nanmean](https://numpy.org/doc/stable/reference/generated/numpy.nanmean.html) allows you two directly average over multiple dimensions: \n"
   ]
  },
  {
   "cell_type": "code",
   "execution_count": 4,
   "metadata": {},
   "outputs": [
    {
     "data": {
      "text/plain": [
       "Frozen(SortedKeysDict({'longitude': 1440, 'latitude': 721, 'time': 744}))"
      ]
     },
     "execution_count": 4,
     "metadata": {},
     "output_type": "execute_result"
    }
   ],
   "source": [
    "barent_sea.dims"
   ]
  },
  {
   "cell_type": "markdown",
   "metadata": {},
   "source": [
    "As you can see, we want to average over the first and second dimension, in order to get the timeseries for the region of the Barent Sea. "
   ]
  },
  {
   "cell_type": "code",
   "execution_count": null,
   "metadata": {},
   "outputs": [],
   "source": [
    "fldmean = np.nanmean(barent_sea.siconc.values, axis=(0, 1)) "
   ]
  },
  {
   "cell_type": "code",
   "execution_count": null,
   "metadata": {},
   "outputs": [],
   "source": [
    "# alternatively you can also flatten the array and calculate the mean over 1D:\n",
    "fldmean = np.nanmean(barent_sea.siconc.values.flatten())"
   ]
  },
  {
   "cell_type": "code",
   "execution_count": null,
   "metadata": {},
   "outputs": [],
   "source": [
    "# the same can be done to compute the median instead of mean \n",
    "fldmean = np.nanmedian(barent_sea.siconc.values.flatten())"
   ]
  },
  {
   "cell_type": "markdown",
   "metadata": {},
   "source": [
    "If  you  work  with  large  regions  and/or  high  latitudes,  you should  not  average  brutally  like  this  but instead produce “area-weighted averages”. That is, give a weight to each position’s value  based on the area of the grid cell at that position divided by the regions total area. Why that? Because the area of each lat-lon grid box is dependent on latitude and decreases substantially towards the poles. This is, however ,beyond the scope of this course, but think of how you would do it, and in particular, how you would calculate the areas."
   ]
  },
  {
   "cell_type": "markdown",
   "metadata": {},
   "source": [
    "## Sum over an area (little less easy)\n",
    "\n",
    "Instead of taking the average concentration over a region, it is way more common to read about “how many km$^2$ of sea ice” this region contains. That’s typically called the sea ice extent; check for example the [daily sea ice extent graphs produced by NSIDC](http://nsidc.org/arcticseaicenews/). The extent requires that you know two things: \n",
    "\n",
    "\n",
    "- how to select the points that have a concentration larger than a specific value (15%)\n",
    "\n",
    "- the area of each grid cell (see above).\n",
    "\n",
    "\n",
    "\n",
    "\n",
    "1. For the first step, we can simply create a mask using the function [**xarray.Dataset.where**](http://xarray.pydata.org/en/stable/generated/xarray.Dataset.where.html) again, this time with a condition for the variable value rather than for the dimensions : "
   ]
  },
  {
   "cell_type": "code",
   "execution_count": 36,
   "metadata": {},
   "outputs": [],
   "source": [
    "sea_ice_mask = data.where(data.siconc > 0.15)"
   ]
  },
  {
   "cell_type": "markdown",
   "metadata": {},
   "source": [
    "An alternative way is to use [fancy indexing](https://jakevdp.github.io/PythonDataScienceHandbook/02.07-fancy-indexing.html):"
   ]
  },
  {
   "cell_type": "code",
   "execution_count": 38,
   "metadata": {},
   "outputs": [],
   "source": [
    "sea_ice_mask.siconc.data[sea_ice_mask.siconc.data < 0.15] = np.nan"
   ]
  },
  {
   "cell_type": "markdown",
   "metadata": {},
   "source": [
    "2. IF you are keen on knowing how you calculate an area-average, the you can have a look [here](http://xarray.pydata.org/en/stable/examples/area_weighted_temperature.html). But for simplicity, you can use the file called **global_area.nc** on Canvas which provides the area in km$^2$ for each grid cell on the ERA5 grid. This is how the file should look like (see that the area is the same on each latitude band but increases towards the equator/decreases towards the poles):\n"
   ]
  },
  {
   "cell_type": "code",
   "execution_count": 74,
   "metadata": {},
   "outputs": [
    {
     "data": {
      "image/png": "[encoded data removed]",
      "text/plain": [
       "<Figure size 432x288 with 2 Axes>"
      ]
     },
     "metadata": {
      "needs_background": "light"
     },
     "output_type": "display_data"
    }
   ],
   "source": [
    "plt.pcolormesh(area/1000000)\n",
    "plt.colorbar(label= 'area [km$^2$]')\n",
    "plt.title('global grid cell area 0.25$^\\circ$ x 0.25$^\\circ$  ')\n",
    "plt.grid('on')\n",
    "plt.xlabel('Lon $^\\circ$E')\n",
    "plt.ylabel('Lat $^\\circ$N')\n",
    "plt.yticks(np.arange(0,720)[::100], lats[::100])\n",
    "plt.xticks(np.arange(0,1440)[::200], lons[::200])\n",
    "plt.show()"
   ]
  },
  {
   "cell_type": "markdown",
   "metadata": {},
   "source": [
    "\n",
    "3. Subset the region for the area to the same horizontal extent as you sea ice concentration. For arithmetic operations, it is always the easiest to have the arrays of interest in the same dimensions. If your time dimensions differ, it is not possible to just add or multiply two arrays. However, you can multiply a 3D array with a 2D array of which the two dimensions correspond to two dimensions of the 3D array. If you are confused now, you may read more on [broadcasting](https://numpy.org/doc/stable/user/basics.broadcasting.html) of numpy arrays. Otherwise, just accept and continue. \n",
    "\n",
    "\n",
    "4. multiply your sea ice extent with the area in km$^2$ for the ERA5 grid:"
   ]
  },
  {
   "cell_type": "code",
   "execution_count": null,
   "metadata": {},
   "outputs": [],
   "source": [
    "siextent = sea_ice_mask* area_ERA5"
   ]
  }
 ],
 "metadata": {
  "kernelspec": {
   "display_name": "Python 3",
   "language": "python",
   "name": "python3"
  },
  "language_info": {
   "codemirror_mode": {
    "name": "ipython",
    "version": 3
   },
   "file_extension": ".py",
   "mimetype": "text/x-python",
   "name": "python",
   "nbconvert_exporter": "python",
   "pygments_lexer": "ipython3",
   "version": "3.6.11"
  }
 },
 "nbformat": 4,
 "nbformat_minor": 4
}
